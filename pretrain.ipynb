{
 "cells": [
  {
   "cell_type": "code",
   "execution_count": 1,
   "metadata": {},
   "outputs": [],
   "source": [
    "import torch\n",
    "from models import GPTModel\n",
    "\n",
    "GPT_CONFIG_124M = {\n",
    "    \"vocab_size\": 50257,\n",
    "    \"context_lenght\": 256,\n",
    "    \"emb_dim\": 768,\n",
    "    \"n_heads\": 12,\n",
    "    \"n_layers\": 12,\n",
    "    \"drop_rate\": 0.1,\n",
    "    \"qkv_bias\": False\n",
    "}\n",
    "\n",
    "def generate_text_simple(model, idx, max_new_tokens, context_size):\n",
    "    for _ in range(max_new_tokens):\n",
    "        idx_cond = idx[:, -context_size:]    # crop current context if it exceeds the supported size\n",
    "        with torch.no_grad():\n",
    "            logits = model(idx_cond)\n",
    "\n",
    "        logits = logits[:, -1, :]   # focus only on last time step so that (batch, n_tokens, vocab_size) becomes (batch, vocab_size)\n",
    "        probas = torch.softmax(logits, dim=-1)\n",
    "        idx_next = torch.argmax(probas, dim=-1, keepdim=True)\n",
    "        idx = torch.cat((idx, idx_next), dim=1)\n",
    "\n",
    "    return idx"
   ]
  },
  {
   "cell_type": "markdown",
   "metadata": {},
   "source": [
    "1. Prepare functions for generating text"
   ]
  },
  {
   "cell_type": "code",
   "execution_count": 2,
   "metadata": {},
   "outputs": [],
   "source": [
    "import tiktoken"
   ]
  },
  {
   "cell_type": "code",
   "execution_count": 3,
   "metadata": {},
   "outputs": [],
   "source": [
    "tokenizer = tiktoken.get_encoding(\"gpt2\")\n",
    "start_context = \"Every effort moves you\"\n",
    "\n",
    "torch.manual_seed(123)\n",
    "model = GPTModel(GPT_CONFIG_124M)\n",
    "model.eval()\n",
    "\n",
    "def text_to_token_ids(text, tokenizer):\n",
    "    encoded = tokenizer.encode(text, allowed_special={'<|endoftext|>'})\n",
    "    encoded_tensor = torch.tensor(encoded).unsqueeze(0) # add the batch dimensionality\n",
    "    return encoded_tensor\n",
    "\n",
    "def token_ids_to_text(token_ids, tokenizer):\n",
    "    flat = token_ids.squeeze(0)\n",
    "    decoded = tokenizer.decode(flat.tolist())\n",
    "    return decoded"
   ]
  },
  {
   "cell_type": "code",
   "execution_count": 4,
   "metadata": {},
   "outputs": [
    {
     "data": {
      "text/plain": [
       "'Every effort moves you rentingノJohnIncvertSw440 Lead nylon>>>>'"
      ]
     },
     "execution_count": 4,
     "metadata": {},
     "output_type": "execute_result"
    }
   ],
   "source": [
    "token_ids = generate_text_simple(\n",
    "    model=model,\n",
    "    idx=text_to_token_ids(start_context, tokenizer),\n",
    "    max_new_tokens=10,\n",
    "    context_size=GPT_CONFIG_124M[\"context_lenght\"]\n",
    ")\n",
    "\n",
    "token_ids_to_text(token_ids, tokenizer)"
   ]
  },
  {
   "cell_type": "markdown",
   "metadata": {},
   "source": [
    "2. Loss"
   ]
  },
  {
   "cell_type": "code",
   "execution_count": 5,
   "metadata": {},
   "outputs": [],
   "source": [
    "inputs = torch.tensor([[16833, 3626, 6100],     # Every effort moves\n",
    "                       [40, 1107, 588]])        # I really like\n",
    "\n",
    "targets = torch.tensor([[3626, 6100, 345],      # effort moves you\n",
    "                        [1107, 588, 11311]])    # really like chocolate"
   ]
  },
  {
   "cell_type": "code",
   "execution_count": 6,
   "metadata": {},
   "outputs": [
    {
     "data": {
      "text/plain": [
       "torch.Size([2, 3, 50257])"
      ]
     },
     "execution_count": 6,
     "metadata": {},
     "output_type": "execute_result"
    }
   ],
   "source": [
    "with torch.no_grad():\n",
    "    logits = model(inputs)\n",
    "probas = torch.softmax(logits, dim=-1)\n",
    "probas.shape\n",
    "# 2,    - batches\n",
    "# 3,    - tokens\n",
    "# 50257 - embedding dim"
   ]
  },
  {
   "cell_type": "code",
   "execution_count": 7,
   "metadata": {},
   "outputs": [
    {
     "data": {
      "text/plain": [
       "tensor(0.0002)"
      ]
     },
     "execution_count": 7,
     "metadata": {},
     "output_type": "execute_result"
    }
   ],
   "source": [
    "max(probas[0][2])"
   ]
  },
  {
   "cell_type": "code",
   "execution_count": 8,
   "metadata": {},
   "outputs": [
    {
     "data": {
      "text/plain": [
       "tensor(0.0002)"
      ]
     },
     "execution_count": 8,
     "metadata": {},
     "output_type": "execute_result"
    }
   ],
   "source": [
    "probas[0][2][44376]"
   ]
  },
  {
   "cell_type": "code",
   "execution_count": 9,
   "metadata": {},
   "outputs": [
    {
     "data": {
      "text/plain": [
       "tensor([[[16657],\n",
       "         [16031],\n",
       "         [44376]],\n",
       "\n",
       "        [[49906],\n",
       "         [29669],\n",
       "         [ 6972]]])"
      ]
     },
     "execution_count": 9,
     "metadata": {},
     "output_type": "execute_result"
    }
   ],
   "source": [
    "token_ids = torch.argmax(probas, dim=-1, keepdim=True)\n",
    "token_ids"
   ]
  },
  {
   "cell_type": "code",
   "execution_count": 10,
   "metadata": {},
   "outputs": [
    {
     "data": {
      "text/plain": [
       "tensor([7.2671e-05, 3.1283e-05, 1.2676e-05])"
      ]
     },
     "execution_count": 10,
     "metadata": {},
     "output_type": "execute_result"
    }
   ],
   "source": [
    "targets[0]\n",
    "probas[0, [0,1,2], targets[0]]"
   ]
  },
  {
   "cell_type": "code",
   "execution_count": 11,
   "metadata": {},
   "outputs": [
    {
     "name": "stdout",
     "output_type": "stream",
     "text": [
      "Target batch 1:  effort moves you     -> tensor([3626, 6100,  345])    -> tensor([7.2671e-05, 3.1283e-05, 1.2676e-05])\n",
      "Output batch 1:  Armed saves inaction -> tensor([16657, 16031, 44376]) -> tensor([0.0002, 0.0002, 0.0002])\n"
     ]
    }
   ],
   "source": [
    "print(f\"Target batch 1: {token_ids_to_text(targets[0], tokenizer)}     -> {targets[0]}    -> {probas[0, [0,1,2], targets[0]]}\")\n",
    "print(f\"Output batch 1: {token_ids_to_text(token_ids[0].flatten(), tokenizer)} -> {token_ids[0].flatten()} -> {probas[0, [0,1,2], token_ids[0].flatten()]}\")\n",
    "target_probas_1 = probas[0, [0,1,2], targets[0]]"
   ]
  },
  {
   "cell_type": "code",
   "execution_count": 12,
   "metadata": {},
   "outputs": [
    {
     "name": "stdout",
     "output_type": "stream",
     "text": [
      "Target batch 2:  really like chocolate    -> tensor([ 1107,   588, 11311]) -> tensor([1.0426e-05, 5.2505e-05, 5.1900e-06])\n",
      "Output batch 2:  pressuring empoweredowed -> tensor([49906, 29669,  6972]) -> tensor([0.0002, 0.0002, 0.0002])\n"
     ]
    }
   ],
   "source": [
    "print(f\"Target batch 2: {token_ids_to_text(targets[1], tokenizer)}    -> {targets[1]} -> {probas[1, [0,1,2], targets[1]]}\")\n",
    "print(f\"Output batch 2: {token_ids_to_text(token_ids[1].flatten(), tokenizer)} -> {token_ids[1].flatten()} -> {probas[1, [0,1,2], token_ids[1].flatten()]}\")\n",
    "target_probas_2 = probas[1, [0,1,2], targets[1]]"
   ]
  },
  {
   "cell_type": "code",
   "execution_count": 13,
   "metadata": {},
   "outputs": [
    {
     "data": {
      "text/plain": [
       "tensor([1.8436e-05, 2.6831e-05, 1.2676e-05])"
      ]
     },
     "execution_count": 13,
     "metadata": {},
     "output_type": "execute_result"
    }
   ],
   "source": [
    "probas[\n",
    "    0,          # batch number\n",
    "    [0, 1, 2],  # for all 3 token embeddings \n",
    "    345         # get the one with id 345\n",
    "    ]\n"
   ]
  },
  {
   "cell_type": "code",
   "execution_count": 14,
   "metadata": {},
   "outputs": [
    {
     "name": "stdout",
     "output_type": "stream",
     "text": [
      "tensor([ -9.5296, -10.3724, -11.2758, -11.4712,  -9.8546, -12.1688])\n",
      "tensor(-10.7787)\n",
      "tensor(10.7787)\n"
     ]
    }
   ],
   "source": [
    "log_probas = torch.log(torch.cat((target_probas_1, target_probas_2)))   # log probability\n",
    "print(log_probas)\n",
    "avg_log_probas = torch.mean(log_probas)                                 # average log probability\n",
    "print(avg_log_probas)\n",
    "neg_avg_log_probas = -avg_log_probas                                    # negative average log probability == cross entropy loss\n",
    "print(neg_avg_log_probas)"
   ]
  },
  {
   "cell_type": "code",
   "execution_count": 15,
   "metadata": {},
   "outputs": [
    {
     "name": "stdout",
     "output_type": "stream",
     "text": [
      "Logits shape: torch.Size([2, 3, 50257])\n",
      "Targets shape: torch.Size([2, 3])\n",
      "Logits shape: torch.Size([6, 50257])\n",
      "Targets shape: torch.Size([6])\n"
     ]
    }
   ],
   "source": [
    "# In pytorch:\n",
    "\n",
    "print(f\"Logits shape: {logits.shape}\")\n",
    "print(f\"Targets shape: {targets.shape}\")\n",
    "\n",
    "\n",
    "logits = logits.flatten(0,1)            # needs to flatten so they have common dimension\n",
    "targets = targets.flatten(0,1)\n",
    "\n",
    "print(f\"Logits shape: {logits.shape}\")\n",
    "print(f\"Targets shape: {targets.shape}\")"
   ]
  },
  {
   "cell_type": "code",
   "execution_count": 16,
   "metadata": {},
   "outputs": [
    {
     "data": {
      "text/plain": [
       "tensor(10.7787)"
      ]
     },
     "execution_count": 16,
     "metadata": {},
     "output_type": "execute_result"
    }
   ],
   "source": [
    "cross_entropy_loss = torch.nn.functional.cross_entropy(logits, targets)\n",
    "cross_entropy_loss"
   ]
  },
  {
   "cell_type": "code",
   "execution_count": 17,
   "metadata": {},
   "outputs": [
    {
     "data": {
      "text/plain": [
       "tensor(47989.2031)"
      ]
     },
     "execution_count": 17,
     "metadata": {},
     "output_type": "execute_result"
    }
   ],
   "source": [
    "perplexity = torch.exp(cross_entropy_loss)\n",
    "perplexity  # model was not sure which token to pick from about 47,989 tokens in vocabulary"
   ]
  },
  {
   "cell_type": "code",
   "execution_count": 18,
   "metadata": {},
   "outputs": [
    {
     "name": "stdout",
     "output_type": "stream",
     "text": [
      "Total number of characters: 20479\n",
      "Total number of tokens: 5145\n"
     ]
    }
   ],
   "source": [
    "file_path = \"the-verdict.txt\"\n",
    "with open(file_path, \"r\", encoding=\"utf-8\") as f:\n",
    "    text_data = f.read()\n",
    "\n",
    "total_characters = len(text_data)\n",
    "total_tokens = len(tokenizer.encode(text_data))\n",
    "\n",
    "print(f\"Total number of characters: {total_characters}\")\n",
    "print(f\"Total number of tokens: {total_tokens}\")"
   ]
  },
  {
   "cell_type": "code",
   "execution_count": 19,
   "metadata": {},
   "outputs": [],
   "source": [
    "# split the text into training and validation sets,\n",
    "# tokenize text,\n",
    "# divide tokenized text into chunks,\n",
    "# shuffle the rows in dataset\n",
    "\n",
    "train_ratio = 0.9\n",
    "split_idx = int(train_ratio * len(text_data))\n",
    "train_data = text_data[:split_idx]\n",
    "val_data = text_data[split_idx:]"
   ]
  },
  {
   "cell_type": "code",
   "execution_count": 20,
   "metadata": {},
   "outputs": [],
   "source": [
    "from dataloader import create_dataloader_v1\n",
    "\n",
    "train_loader = create_dataloader_v1(\n",
    "    train_data,\n",
    "    batch_size=2,\n",
    "    max_lenght=GPT_CONFIG_124M[\"context_lenght\"],\n",
    "    stride=GPT_CONFIG_124M[\"context_lenght\"],\n",
    "    drop_last=True,\n",
    "    shuffle=True,\n",
    "    num_workers=0\n",
    ")\n",
    "\n",
    "val_loader = create_dataloader_v1(\n",
    "    val_data,\n",
    "    batch_size=2,\n",
    "    max_lenght=GPT_CONFIG_124M[\"context_lenght\"],\n",
    "    stride=GPT_CONFIG_124M[\"context_lenght\"],\n",
    "    drop_last=True,\n",
    "    shuffle=True,\n",
    "    num_workers=0\n",
    ")"
   ]
  },
  {
   "cell_type": "code",
   "execution_count": 21,
   "metadata": {},
   "outputs": [
    {
     "name": "stdout",
     "output_type": "stream",
     "text": [
      "Train loader:\n",
      "Training batch 1: (torch.Size([2, 256]), torch.Size([2, 256]))\n",
      "Training batch 2: (torch.Size([2, 256]), torch.Size([2, 256]))\n",
      "Training batch 3: (torch.Size([2, 256]), torch.Size([2, 256]))\n",
      "Training batch 4: (torch.Size([2, 256]), torch.Size([2, 256]))\n",
      "Training batch 5: (torch.Size([2, 256]), torch.Size([2, 256]))\n",
      "Training batch 6: (torch.Size([2, 256]), torch.Size([2, 256]))\n",
      "Training batch 7: (torch.Size([2, 256]), torch.Size([2, 256]))\n",
      "Training batch 8: (torch.Size([2, 256]), torch.Size([2, 256]))\n",
      "Training batch 9: (torch.Size([2, 256]), torch.Size([2, 256]))\n",
      "Val loader:\n",
      "Val batch 1: (torch.Size([2, 256]), torch.Size([2, 256]))\n"
     ]
    }
   ],
   "source": [
    "print(\"Train loader:\")\n",
    "for i, (x, y) in enumerate(train_loader, start=1):\n",
    "    print(f\"Training batch {i}: {x.shape, y.shape}\")\n",
    "\n",
    "print(\"Val loader:\")\n",
    "for i, (x, y) in enumerate(val_loader, start=1):\n",
    "    print(f\"Val batch {i}: {x.shape, y.shape}\")"
   ]
  },
  {
   "cell_type": "code",
   "execution_count": 22,
   "metadata": {},
   "outputs": [],
   "source": [
    "def calc_loss_batch(input_batch, target_batch, model, device):\n",
    "    input_batch = input_batch.to(device)    # this allows to use GPU\n",
    "    target_batch = target_batch.to(device)\n",
    "    logits = model(input_batch)\n",
    "    loss = torch.nn.functional.cross_entropy(logits.flatten(0,1), target_batch.flatten())\n",
    "    return loss\n",
    "\n",
    "\n",
    "def calc_loss_loader(data_loader, model, device, num_batches=None):\n",
    "    total_loss = 0\n",
    "    if len(data_loader) == 0:\n",
    "        return float(\"nan\")\n",
    "    elif num_batches is None:\n",
    "        num_batches = len(data_loader)  # iterate over all batches if num_batches is not specified\n",
    "    else:\n",
    "        num_batches = min(num_batches, len(data_loader))    # reduce number of batches to match total number of batches in data loader \n",
    "                                                            # if num_batches exceeds the number of batches in data loader\n",
    "    for i, (input_batch, target_batch) in enumerate(data_loader):\n",
    "        if i < num_batches:\n",
    "            loss = calc_loss_batch(input_batch, target_batch, model, device)\n",
    "            total_loss += loss\n",
    "        else:\n",
    "            break\n",
    "    return total_loss / num_batches\n",
    "\n"
   ]
  },
  {
   "cell_type": "code",
   "execution_count": 27,
   "metadata": {},
   "outputs": [
    {
     "name": "stdout",
     "output_type": "stream",
     "text": [
      "Training loss: 10.990399360656738\n",
      "Validation loss: 10.976140022277832\n"
     ]
    }
   ],
   "source": [
    "# device = torch.device(\"cuda\" if torch.cuda.is_available() else \"cpu\")\n",
    "device = \"cpu\"\n",
    "model.to(device)\n",
    "with torch.no_grad():\n",
    "    train_loss = calc_loss_loader(train_loader, model, device)\n",
    "    val_loss = calc_loss_loader(val_loader, model, device)\n",
    "\n",
    "print(f\"Training loss: {train_loss}\")\n",
    "print(f\"Validation loss: {val_loss}\")"
   ]
  },
  {
   "cell_type": "code",
   "execution_count": 28,
   "metadata": {},
   "outputs": [],
   "source": [
    "def evaluate_model(model, train_loader, val_loader, device, eval_iter):\n",
    "    model.eval()\n",
    "    with torch.no_grad():\n",
    "        train_loss = calc_loss_loader(train_loader, model, device, num_batches=eval_iter)\n",
    "        val_loss = calc_loss_loader(val_loader, model, device, num_batches=eval_iter)\n",
    "\n",
    "    model.train()\n",
    "    return train_loss, val_loss\n",
    "\n",
    "def generate_and_print_sample(model, tokenizer, device, start_context):\n",
    "    model.eval()\n",
    "    context_size = model.pos_emb.weight.shape[0]\n",
    "    encoded = text_to_token_ids(start_context, tokenizer).to(device)\n",
    "    with torch.no_grad():\n",
    "        token_ids = generate_text_simple(model, encoded, 50, context_size)\n",
    "    decoded_text = token_ids_to_text(token_ids, tokenizer)\n",
    "    print(decoded_text.replace(\"\\n\", \" \"))\n",
    "    model.train()\n",
    "\n",
    "def train_model_simple(model, train_loader, val_loader, optimizer, device, num_epochs, eval_freq, eval_iter, start_context, tokenizer):\n",
    "    train_losses, val_losses, track_tokens_seen = [], [], []\n",
    "    tokens_seen, global_step = 0, -1\n",
    "\n",
    "    for epoch in range(num_epochs):\n",
    "        model.train()\n",
    "        for input_batch, target_batch in train_loader:\n",
    "            optimizer.zero_grad()\n",
    "            loss = calc_loss_batch(\n",
    "                input_batch, target_batch, model, device\n",
    "            )\n",
    "            loss.backward()     # calculate gradients\n",
    "            optimizer.step()    # update weights based on gradients\n",
    "            tokens_seen += input_batch.numel()\n",
    "            global_step += 1\n",
    "\n",
    "\n",
    "            if global_step % eval_freq == 0:\n",
    "                train_loss, val_loss = evaluate_model(\n",
    "                    model, train_loader, val_loader, device, eval_iter\n",
    "                )\n",
    "                train_losses.append(train_loss)\n",
    "                val_losses.append(val_loss)\n",
    "                track_tokens_seen.append(tokens_seen)\n",
    "\n",
    "                print(f\"Ep {epoch+1} (Step {global_step:06d}):\"\n",
    "                      f\"Train loss {train_loss:.3f}\"\n",
    "                      f\"Val loss {val_loss:.3f}\"\n",
    "                      )\n",
    "            generate_and_print_sample(model, tokenizer, device, start_context)\n",
    "\n",
    "    return train_losses, val_losses, track_tokens_seen"
   ]
  },
  {
   "cell_type": "code",
   "execution_count": 29,
   "metadata": {},
   "outputs": [
    {
     "name": "stdout",
     "output_type": "stream",
     "text": [
      "Ep 1 (Step 000000):Train loss 9.766Val loss 9.897\n",
      "Every effort moves you,,,,,,,,,,,,,,,,,,,,,,,,,,,,,,,,,,,,,,,,,,,,,,,,,,\n",
      "Every effort moves you,.                                                \n",
      "Every effort moves you,,,,,,,,,,,,,,,,,,,,,,,,,,,,,,,,,,,,,,,,,,,,,,,,,,\n",
      "Every effort moves you,,,,,,,,,,,,,,,,,,,,,,,,,,,,,,,,,,,,,,,,,,,,,,,,,,\n",
      "Every effort moves you,,,,,,,,,,,,,,,,,,,,,,,,,,,,, the,,,,,,,,,,,,,,,,,,,,\n",
      "Ep 1 (Step 000005):Train loss 8.056Val loss 8.332\n",
      "Every effort moves you, the the the the the the the the the the the the the the the the the the the the the the the the the the the the the the the the the the the the the the the the the the the the the the the the the\n",
      "Every effort moves you, the,, the the the the the the the the the the the the the, the the the the the the, the the the the the the the the the the the the the the the the the the the the the the the the the\n",
      "Every effort moves you,,,,,,,,,,,,,,.                                   \n",
      "Every effort moves you,,,,,,,,,,,,.                                     \n",
      "Every effort moves you,,,,,,,,,,,,.                                     \n",
      "Ep 2 (Step 000010):Train loss 6.770Val loss 7.048\n",
      "Every effort moves you,,,,,,,,,,,,,,.                                   \n",
      "Every effort moves you,,,,,,,,,,,,,,,,,,,,,,,,,,,,, the,,,,,,,,,,, the,,,,,,,,\n",
      "Every effort moves you, the, the the the the the the the, the the the the the the, the the the, the, the the the the, the the the the the the, the the the the, the the the the the the, the the\n",
      "Every effort moves you, the, the the the the the the the the the the the the the the, the the the, the, the the the the the the the the the the the the the the the the, the the the the the the the the the\n",
      "Every effort moves you, the, the the the, the the the, the the the the the the, the the, the the, the the the the, the, the the the to the the the the the, the the the the the, the, the\n",
      "Ep 2 (Step 000015):Train loss 6.167Val loss 6.639\n",
      "Every effort moves you, the, the the the, the, the, the the the the, the, the the,, the, the the the to the the, the the the to the the the the the, the, the the, the, the,\n",
      "Every effort moves you, the,, the.                                            \n",
      "Every effort moves you, and,, and, and, and,,, and, and, and,, and,,,, and, and,, and,,,, and,, and, and, and, and,,,,,,\n",
      "Every effort moves you, and, and, and, and, and, and, and, and, and, and, and, and, and, and, and, and, and, and, and, and, and, and, and, and, and\n",
      "Every effort moves you, and, and, and, and, and, and, and, and, and, and, and, and, and, and, and, and, and, and, and, and, and, and, and, and, and\n",
      "Ep 3 (Step 000020):Train loss 5.634Val loss 6.518\n",
      "Every effort moves you, and I had\"                       \"\"\"\"I the\"I the\"\"\"I the\"\"\"I.   \n",
      "Every effort moves you, and I had\"I.                                           \n",
      "Every effort moves you, and, and the the the the the the the the the the the the the, and the the the the, and the the the the the the the the the the the the the the the, the the the the the the, and the\n",
      "Every effort moves you, and, and the the the the the the the the the the the the the, the the, and the, and the the, and the the the the the the, the the the the, the the the the the, and, and\n",
      "Every effort moves you, and, and the the, and the the, and the the the the the, and the, and the, and the the, and the, and the the, and the the the the, the, and the, and, and,\n",
      "Ep 3 (Step 000025):Train loss 5.520Val loss 6.434\n",
      "Every effort moves you, and, and the--I--I to the--I.                                    \n",
      "Every effort moves you, and I had                                              \n",
      "Every effort moves you, and I had                                              \n",
      "Every effort moves youHe       \"\"I\"IHe.             \"IHe, and I had been the his theHe, and, and I had\"   \n",
      "Every effort moves you. \"I\"I a\"I\"I\"I. \"I was aHe, and I had\"I\"I. \"I the a\"I the his the a, and I had been. \"I a\n",
      "Ep 4 (Step 000030):Train loss 4.847Val loss 6.375\n",
      "Every effort moves you. \"I a--I had been the the picture. \", and I had the of the picture. \"I, and I had the the of the of the of the sketch, and, and I had been. \"\n",
      "Every effort moves you, and I had been the picture for I had the picture and I had been. \"I was, I had been the picture to the picture, and I had been, and I had been, and I had been the room, and I\n",
      "Every effort moves you, and I had to the of the of the, I had.            \", and I was, I had to the of the of the of the of the of the, I was,\n",
      "Every effort moves you.               \", I had the of the of the of the of the the of the of the of the of the of the of the of the of the of the of the\n",
      "Every effort moves you.                           \" the of the the the his the his the the it, the of the the of the of the of\n",
      "Ep 4 (Step 000035):Train loss 4.399Val loss 6.331\n",
      "Every effort moves you know it to the picture.                      \" the his the the his the his the his the it, the his the his the his he was his\n",
      "Every effort moves you know the picture.         \"I the his his--and, and the, and he was his his the picture--and it to the his pictures--and, and he was his pictures--and it's\n",
      "Every effort moves you know.     \"I the his a a his. I had the, and I had the, and he was, and I had been his pictures he had the picture.       \"I, and\n",
      "Every effort moves you know.  \"I he was his pictures--and a his. \"I, I was, in the, and I felt.       \"I the picture to the, and I had been.  \n",
      "Every effort moves you know he was not to have to have to have to have a little of his pictures--and it was, in the, and I felt of the picture--as Jack's, and he was, and I was, and I had been, I\n",
      "Ep 5 (Step 000040):Train loss 4.010Val loss 6.321\n",
      "Every effort moves you know he was not to have to have to have to have to have of the picture to have to see--and here are the picture to have to see it was _  \"Oh, I had been to have to have to see it was\n",
      "Every effort moves you know it was to have to see it was to the picture.         \"I, the picture to the picture--and the picture to have him--and it, the picture to the picture--and it was\n",
      "Every effort moves you know the picture to the picture to have to the picture--as his last I felt to have--as--and it, the picture to the picture--as I had been the picture--as I had the picture, the picture--as I had\n",
      "Every effort moves you know it was not to the picture--I had the picture.         \"Oh, the. \"I he had the his pictures--as his the honour of the, the picture--I he was his\n",
      "Every effort moves you know it.   \"--I he had a little his last word.     \"Oh, and. \"Oh, in the picture to have.  \"Oh, in a--I. \"I\n",
      "Ep 6 (Step 000045):Train loss 3.327Val loss 6.214\n",
      "Every effort moves you know it.   \"--I he, and.  \"Oh, and.  \"Oh, and. \"Oh, and in a little at my elbow and. \"Oh, and in the picture. \n",
      "Every effort moves you know he was not to have of his pictures--I had a little of his pictures: \"--I--and here are the picture to the picture, and I had been at my elbow and.          \n",
      "Every effort moves you know he was not to have of the picture--I had a little of the and he was not to me to me--I had been, and he had the fact, and.             \n",
      "Every effort moves you know he was not a little a little the--I had a little of the.           \"Oh, and his pictures--I.   \"Oh, and his pictures--I was his\n",
      "Every effort moves you know he was not to the picture.     \"Oh, and he was to me--I didn't--his, and he was his pictures--I had been his pictures's his pictures--his--his, and in the\n",
      "Ep 6 (Step 000050):Train loss 2.744Val loss 6.183\n",
      "Every effort moves you know it was to me to me--I he had been the fact of the fact that he was's an to me to have to see the fact, and I had been at my elbow and I had been, and down, and he was his\n",
      "Every effort moves you know it was to me to me--I had been his pictures--his, and he was to see of the fact, and in the of the moment--as Jack himself, as he was his own of the fact--his, I was his\n",
      "Every effort moves you know it was to me, and in the picture--his by his painting him, with of the fact of the fact, and that, in the moment--as Jack himself, as his own had been of the picture--his, I was his\n",
      "Every effort moves you know it was not that, and in the--I had a little of the so that he was, and in fact, and that, in the moment--as Jack himself, as his own had been of the picture--his, I was his\n",
      "Every effort moves you know,\" was not that I felt of the deep arm-chairs.           He laughed again, and he was his head to the donkey.            \n",
      "Ep 7 (Step 000055):Train loss 2.275Val loss 6.181\n",
      "Every effort moves you know,\" was not that he was.        \"I turned--and me.  He laughed again, and he had the head to the donkey.            \n",
      "Every effort moves you know,\" was not that he was his eyes he had a good-room, and he was no he had the fact, and that, and the moment--as Jack himself, and he was his own the donkey. \"There were days when I\n",
      "Every effort moves you know,\" was not that he was his eyes he had been.   \"I looked--I looked up, I had to see a little, and his head to the donkey. \"I turned, and down the room, I had\n",
      "Every effort moves you?\"  \"I turned, and I felt him--I looked up his eyes: make yourself comfortable--and here are the cigars you like.\"  He placed them at my elbow and as he had been the man of the hour. \n",
      "Every effort moves you?\"  \"I didn't--I felt him--as his painting him, with a an exquisburn, I had been, in the moment--as Jack himself, my elbow and as I had been the man of the hour. \n",
      "Ep 7 (Step 000060):Train loss 1.640Val loss 6.192\n",
      "Every effort moves you?\"  \"Yes--I glanced after him, and Mrs.  \"I was no great, the fact, the cigars you like.\"    \"I had the his painting, the donkey. \"There were days when I\n",
      "Every effort moves you?\"  \"Yes--I glanced after him, with a little. \"There: make yourself comfortable--and here are the cigars you like.\"      \"Oh, I saw that, my--because he had the first\n",
      "Every effort moves you?\"     I glanced after him, a good-c a and it was no great, the fact, the cigars you like.\"      \"--and by his the donkey. \"There were days when I\n",
      "Every effort moves you?\"  \"Yes--I glanced after him, and a little. \"There: make yourself comfortable--and here are the cigars you like.\"      \"--and I saw that, in the bull--and by his\n",
      "Every effort moves you?\"  \"Yes--quite insensible to the fact with a laugh: \"Yes--and by me!\"  \"I didn't say, in the head to look up at the honour of the donkey. \"There were days when I\n",
      "Ep 8 (Step 000065):Train loss 1.322Val loss 6.313\n",
      "Every effort moves you?\"  \"Yes--quite insensible to the irony. Gisburn's an make yourself comfortable--and here are the cigars you like.\"  I looked at the donkey--and I had the donkey. \"There were days when I\n",
      "Every effort moves you?\"  \"Yes--quite insensible to the fact with a laugh: \"Yes--and by me!\"  \"Oh, in the moment--as Jack himself, one might put it, had been the man of the hour. The\n",
      "Every effort moves you?\"  \"Yes--quite insensible to the fact with a laugh: \"Yes--and by me!\"    \"--it was back his head to look up at the honour being _mine_--because he had always _\n",
      "Every effort moves you?\"  \"Yes--quite insensible to the fact with the last word. Gisburn's an awful simpleton, and Mrs. Gisburn's open countenance. \"It's his pictures with a--because he had always _\n",
      "Every effort moves you?\"  \"Yes--quite insensible to the fact with his last word.        He laughed again, and threw back his head to look up at the honour being _mine_--because he's when I\n",
      "Ep 8 (Step 000070):Train loss 1.031Val loss 6.324\n",
      "Every effort moves you?\"  \"Yes--quite insensible to the fact with his last word.        He laughed again, and threw back his head to look up at the honour being _mine_--because he's when I\n",
      "Every effort moves you?\"  \"Yes--quite insensible to the fact with his last word.    \"Oh, I felt to see a smile behind his close grayish beard--as if he had the donkey. \"There were days when I\n",
      "Every effort moves you?\"  \"Yes--quite insensible to the fact with the last word. \"--had lent herself in an unusual degree to the display of his close grayish beard--as if he had the donkey. \"strongest,\" as his\n",
      "Every effort moves you?\"  \"Yes--quite insensible to the fact with the last word.    \"Oh, I had made him--it was his close grayish beard--as if he had the donkey. \"strongest,\" as his\n",
      "Every effort moves you?\"  \"Yes--quite insensible to the fact with the last word.        \"Oh, in the moment--as Jack himself, one might put it, and up and down the room, when I\n",
      "Ep 9 (Step 000075):Train loss 0.750Val loss 6.357\n",
      "Every effort moves you?\"  \"Yes--quite insensible to the fact with the last word.        He laughed again, and threw back the window-curtains, as I had been the man of the hour. The\n",
      "Every effort moves you?\"  \"Yes--quite insensible to the fact with the last word. Gisburn's past!  \"Oh, in the moment--as Jack himself, one might put it, had been the man of the hour. The\n",
      "Every effort moves you?\"  \"Yes--quite insensible to the fact with such--had not existed till nearly a year after Jack's resolve had been taken. It might be that he had married her--the quality of Jack's \"strongest,\" as his\n",
      "Every effort moves you?\"  \"Yes--quite insensible to the fact with such--had not existed till nearly a year after Jack's resolve had been taken. It might be that he had married her--the quality of Jack's \"strongest,\" as his\n",
      "Every effort moves you?\"  \"Yes--quite insensible to the fact with such--had not existed till nearly a year after Jack's resolve had been taken.  He placed them at my elbow and as I turned, when Stroud laid in the first\n",
      "Ep 9 (Step 000080):Train loss 0.527Val loss 6.387\n",
      "Every effort moves you?\"  \"Yes--quite insensible to the fact with such--had not existed till nearly a year after Jack's resolve had been taken.  He placed them at my elbow and as I turned, when Stroud laid in the first\n",
      "Every effort moves you?\"  \"Yes--quite insensible to the fact with a laugh: \"Yes--and by me!\"  He laughed again, and threw back the window-curtains, moved aside a _jardiniere_ full of\n",
      "Every effort moves you?\"  \"Yes--quite insensible to the fact with a laugh: \"Yes--and by me!\"  He laughed again, and threw back his glory, he had dropped his painting, had been the man of the hour. The\n",
      "Every effort moves you?\"  \"Yes--quite insensible to the fact with a laugh: \"Yes--and by me!\"  He laughed again, when, on a later day, one might put it, had been the man of the hour. The\n",
      "Every effort moves you?\"  \"Yes--quite insensible to the fact with a laugh: \"Yes--and by me!\"  He laughed again, when, on a later day, one might put it, had been the man of the hour. The\n",
      "Ep 10 (Step 000085):Train loss 0.338Val loss 6.467\n",
      "Every effort moves you?\"  \"Yes--quite insensible to the fact with equanimity. Victor Grindle was, in fact, becoming the man of the moment--as Jack himself, one might put it, had been the man of the hour. The\n",
      "Every effort moves you?\"  \"Yes--quite insensible to the fact with equanimity. Victor Grindle was, in fact, becoming the man of the moment--as Jack himself, one might put it, had been the man of the hour. The\n",
      "Every effort moves you?\"  \"Yes--quite insensible to the fact with equanimity. Victor Grindle was, in fact, becoming the man of the moment--as Jack himself, one might put it, had been the man of the hour. The\n",
      "Every effort moves you?\"  \"Yes--quite insensible to the fact with equanimity. Victor Grindle was, in fact, becoming the man of the moment--as Jack himself, one might put it, had been the man of the hour. The\n",
      "Every effort moves you?\"  \"Yes--quite insensible to the fact with equanimity. Victor Grindle was, in fact, becoming the man of the moment--as Jack himself, one might put it, married a rich widow, and established himself in\n"
     ]
    }
   ],
   "source": [
    "torch.manual_seed(123)\n",
    "model = GPTModel(GPT_CONFIG_124M)\n",
    "model.to(device)\n",
    "optimizer = torch.optim.AdamW(\n",
    "    model.parameters(), lr=0.0004, weight_decay=0.1\n",
    ")\n",
    "start_context = \"Every effort moves you\"\n",
    "num_epochs = 10\n",
    "train_losses, val_losses, tokens_seen = train_model_simple(\n",
    "    model, train_loader, val_loader, optimizer, device, num_epochs, eval_freq=5, eval_iter=5, start_context=start_context, tokenizer=tokenizer, \n",
    ")"
   ]
  },
  {
   "cell_type": "code",
   "execution_count": 30,
   "metadata": {},
   "outputs": [
    {
     "data": {
      "image/png": "[encoded data removed]",
      "text/plain": [
       "<Figure size 500x300 with 2 Axes>"
      ]
     },
     "metadata": {},
     "output_type": "display_data"
    }
   ],
   "source": [
    "import matplotlib.pyplot as plt\n",
    "from matplotlib.ticker import MaxNLocator\n",
    "\n",
    "def plot_losses(epochs_seen, tokens_seen, traini_losses, val_losses):\n",
    "    fig, ax1 = plt.subplots(figsize=(5,3))\n",
    "    ax1.plot(epochs_seen, train_losses, label=\"Training loss\")\n",
    "    ax1.plot(epochs_seen, val_losses, linestyle=\"-.\", label=\"Validation loss\")\n",
    "    ax1.set_xlabel(\"Epochs\")\n",
    "    ax1.set_ylabel(\"Loss\")\n",
    "    ax1.legend(loc=\"upper right\")\n",
    "    ax1.xaxis.set_major_locator(MaxNLocator(integer=True))\n",
    "    ax2 = ax1.twiny()\n",
    "    ax2.plot(tokens_seen, train_losses, alpha=0)\n",
    "    ax2.set_xlabel(\"Tokens seen\")\n",
    "    fig.tight_layout()\n",
    "    plt.show()\n",
    "\n",
    "epochs_tensor = torch.linspace(0, num_epochs, len(train_losses))\n",
    "plot_losses(epochs_tensor, tokens_seen, train_losses, val_losses)"
   ]
  },
  {
   "cell_type": "code",
   "execution_count": 39,
   "metadata": {},
   "outputs": [
    {
     "name": "stdout",
     "output_type": "stream",
     "text": [
      "Tell me, who are you? on--forming, as it were, so inevitably the background of her own picture--had lent herself in an unusual degree to the display of this false virtuosity. The picture was one of Jack's \"strongest,\" as his own trade hardly\n"
     ]
    }
   ],
   "source": [
    "model.to(\"cpu\")\n",
    "model.eval()\n",
    "tokenizer=tiktoken.get_encoding(\"gpt2\")\n",
    "context_input = \"Tell me, who are you?\"\n",
    "token_ids = generate_text_simple(\n",
    "    model=model,\n",
    "    idx=text_to_token_ids(context_input, tokenizer),\n",
    "    max_new_tokens=50,\n",
    "    context_size=GPT_CONFIG_124M[\"context_lenght\"]\n",
    ")\n",
    "print(token_ids_to_text(token_ids, tokenizer))"
   ]
  },
  {
   "cell_type": "code",
   "execution_count": null,
   "metadata": {},
   "outputs": [],
   "source": []
  }
 ],
 "metadata": {
  "kernelspec": {
   "display_name": "llms_venv",
   "language": "python",
   "name": "python3"
  },
  "language_info": {
   "codemirror_mode": {
    "name": "ipython",
    "version": 3
   },
   "file_extension": ".py",
   "mimetype": "text/x-python",
   "name": "python",
   "nbconvert_exporter": "python",
   "pygments_lexer": "ipython3",
   "version": "3.9.13"
  }
 },
 "nbformat": 4,
 "nbformat_minor": 2
}
